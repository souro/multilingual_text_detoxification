{
 "cells": [
  {
   "cell_type": "code",
   "execution_count": null,
   "id": "0a1998ee-bc42-4a98-815c-58d4c3a6bca8",
   "metadata": {},
   "outputs": [],
   "source": [
    "import os\n",
    "import pandas as pd\n",
    "import random"
   ]
  },
  {
   "cell_type": "code",
   "execution_count": null,
   "id": "809289dc-f3f7-4751-9252-f7e9a8bbac0e",
   "metadata": {},
   "outputs": [],
   "source": [
    "seed_value = 53\n",
    "random.seed(seed_value)"
   ]
  },
  {
   "cell_type": "code",
   "execution_count": null,
   "id": "2f85f96f-0160-4e42-b88f-758b2fc3357b",
   "metadata": {},
   "outputs": [],
   "source": [
    "directory = '../output/human_eval/'\n",
    "\n",
    "lang = 'hi'\n",
    "\n",
    "selected_data = []\n",
    "\n",
    "for filename in os.listdir(directory):\n",
    "    if filename.endswith('.csv'):\n",
    "        parts = filename.split('-')\n",
    "        current_lang = parts[0]\n",
    "        methodology = parts[1].split('.')[0]  # Remove the '.csv' extension\n",
    "\n",
    "        if current_lang == lang:\n",
    "            df = pd.read_csv(os.path.join(directory, filename))\n",
    "    \n",
    "            selected_rows = df.sample(50)\n",
    "    \n",
    "            selected_rows['methodology'] = methodology\n",
    "    \n",
    "            selected_data.append(selected_rows)\n",
    "\n",
    "result_df = pd.concat(selected_data)\n",
    "\n",
    "result_df.to_csv(f'selected_data_{lang}.csv', index=False)"
   ]
  },
  {
   "cell_type": "code",
   "execution_count": null,
   "id": "16b2a345-5fb7-4cec-bf01-428ecdbdeb84",
   "metadata": {
    "tags": []
   },
   "outputs": [],
   "source": [
    "df_human_eval_report = pd.read_csv('', index_col = False)\n",
    "print(df_human_eval_report.head())"
   ]
  },
  {
   "cell_type": "code",
   "execution_count": null,
   "id": "58c47a84-9a15-4128-af32-3fcf464f6170",
   "metadata": {
    "tags": []
   },
   "outputs": [],
   "source": [
    "def avg_score(methodology, metric_list):\n",
    "    seq2seqloss_dec_cls_loss = list()\n",
    "    delete = list()\n",
    "    knowledge_transfer = list()\n",
    "    delete_recons = list()\n",
    "    \n",
    "    for idx, i in enumerate(methodology):\n",
    "        if 'seq2seqloss_dec_cls_loss' in (i):\n",
    "            seq2seqloss_dec_cls_loss.append(int(metric_list[idx]))\n",
    "        elif 'knowledge_transfer' in (i):\n",
    "            knowledge_transfer.append(int(metric_list[idx]))\n",
    "        elif 'delete_recon' in (i):\n",
    "            delete_recons.append(int(metric_list[idx]))\n",
    "        elif 'delete' in (i):\n",
    "            delete.append(int(metric_list[idx]))\n",
    "    return sum(seq2seqloss_dec_cls_loss)/len(seq2seqloss_dec_cls_loss),sum(delete)/len(delete), sum(knowledge_transfer)/len(knowledge_transfer), sum(delete_recons)/len(delete_recons)"
   ]
  },
  {
   "cell_type": "code",
   "execution_count": null,
   "id": "c344a969-0d2c-4881-848e-c88a7399d97b",
   "metadata": {
    "tags": []
   },
   "outputs": [],
   "source": [
    "res = avg_score(df_human_eval_report['methodology'].values.tolist(), df_human_eval_report['accuracy'].values.tolist())\n",
    "print(res)"
   ]
  },
  {
   "cell_type": "code",
   "execution_count": null,
   "id": "20a3ecf2-2696-4c96-8831-b39fbe61c45b",
   "metadata": {
    "tags": []
   },
   "outputs": [],
   "source": [
    "res = avg_score(df_human_eval_report['methodology'].values.tolist(), df_human_eval_report['content_preservation'].values.tolist())\n",
    "print(res)"
   ]
  },
  {
   "cell_type": "code",
   "execution_count": null,
   "id": "397e4d09-7431-4c21-a1e2-c8501f054d99",
   "metadata": {
    "tags": []
   },
   "outputs": [],
   "source": [
    "res = avg_score(df_human_eval_report['methodology'].values.tolist(), df_human_eval_report['fluency'].values.tolist())\n",
    "print(res)"
   ]
  }
 ],
 "metadata": {
  "kernelspec": {
   "display_name": "Python 3 (ipykernel)",
   "language": "python",
   "name": "python3"
  },
  "language_info": {
   "codemirror_mode": {
    "name": "ipython",
    "version": 3
   },
   "file_extension": ".py",
   "mimetype": "text/x-python",
   "name": "python",
   "nbconvert_exporter": "python",
   "pygments_lexer": "ipython3",
   "version": "3.10.12"
  }
 },
 "nbformat": 4,
 "nbformat_minor": 5
}
